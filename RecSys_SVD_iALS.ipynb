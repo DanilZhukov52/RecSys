{
 "cells": [
  {
   "cell_type": "markdown",
   "id": "93831896-683d-4946-8cae-7aff56608a65",
   "metadata": {},
   "source": [
    "## ДЗ №2. Матричные факторизации"
   ]
  },
  {
   "cell_type": "markdown",
   "id": "d8f4b315-75b8-4225-953c-5510c584ff2b",
   "metadata": {},
   "source": [
    "В этом задании мы будем работать с классическим для рекоендательных систем датасетом [MovieLens 1M](https://grouplens.org/datasets/movielens/1m/). Датасет содержит рейтинги оценки для 4000 фильмов от 6000 пользователей. Более подробное описание можете найти на странице с датасетом и в README файле"
   ]
  },
  {
   "cell_type": "code",
   "execution_count": 1,
   "id": "f5a85f84-4854-4249-963d-143d08bb7e36",
   "metadata": {},
   "outputs": [
    {
     "name": "stdout",
     "output_type": "stream",
     "text": [
      "--2025-04-05 16:45:13--  https://files.grouplens.org/datasets/movielens/ml-1m.zip\n",
      "Распознаётся files.grouplens.org (files.grouplens.org)… 128.101.65.152\n",
      "Подключение к files.grouplens.org (files.grouplens.org)|128.101.65.152|:443... соединение установлено.\n",
      "HTTP-запрос отправлен. Ожидание ответа… 200 OK\n",
      "Длина: 5917549 (5,6M) [application/zip]\n",
      "Сохранение в: «ml-1m.zip»\n",
      "\n",
      "ml-1m.zip           100%[===================>]   5,64M  3,93MB/s    за 1,4s    \n",
      "\n",
      "2025-04-05 16:45:16 (3,93 MB/s) - «ml-1m.zip» сохранён [5917549/5917549]\n",
      "\n",
      "Archive:  ml-1m.zip\n",
      "   creating: ml-1m/\n",
      "  inflating: ml-1m/movies.dat        \n",
      "  inflating: ml-1m/ratings.dat       \n",
      "  inflating: ml-1m/README            \n",
      "  inflating: ml-1m/users.dat         \n",
      "SUMMARY\n",
      "================================================================================\n",
      "\n",
      "These files contain 1,000,209 anonymous ratings of approximately 3,900 movies \n",
      "made by 6,040 MovieLens users who joined MovieLens in 2000.\n",
      "\n",
      "USAGE LICENSE\n",
      "================================================================================\n",
      "\n",
      "Neither the University of Minnesota nor any of the researchers\n",
      "involved can guarantee the correctness of the data, its suitability\n",
      "for any particular purpose, or the validity of results based on the\n",
      "use of the data set.  The data set may be used for any research\n",
      "purposes under the following conditions:\n",
      "\n",
      "     * The user may not state or imply any endorsement from the\n",
      "       University of Minnesota or the GroupLens Research Group.\n",
      "\n",
      "     * The user must acknowledge the use of the data set in\n",
      "       publications resulting from the use of the data set\n",
      "       (see below for citation information).\n",
      "\n",
      "     * The user may not redistribute the data without separate\n",
      "       permission.\n",
      "\n",
      "     * The user may not use this information for any commercial or\n",
      "       revenue-bearing purposes without first obtaining permission\n",
      "       from a faculty member of the GroupLens Research Project at the\n",
      "       University of Minnesota.\n",
      "\n",
      "If you have any further questions or comments, please contact GroupLens\n",
      "<grouplens-info@cs.umn.edu>. \n",
      "\n",
      "CITATION\n",
      "================================================================================\n",
      "\n",
      "To acknowledge use of the dataset in publications, please cite the following\n",
      "paper:\n",
      "\n",
      "F. Maxwell Harper and Joseph A. Konstan. 2015. The MovieLens Datasets: History\n",
      "and Context. ACM Transactions on Interactive Intelligent Systems (TiiS) 5, 4,\n",
      "Article 19 (December 2015), 19 pages. DOI=http://dx.doi.org/10.1145/2827872\n",
      "\n",
      "\n",
      "ACKNOWLEDGEMENTS\n",
      "================================================================================\n",
      "\n",
      "Thanks to Shyong Lam and Jon Herlocker for cleaning up and generating the data\n",
      "set.\n",
      "\n",
      "FURTHER INFORMATION ABOUT THE GROUPLENS RESEARCH PROJECT\n",
      "================================================================================\n",
      "\n",
      "The GroupLens Research Project is a research group in the Department of \n",
      "Computer Science and Engineering at the University of Minnesota. Members of \n",
      "the GroupLens Research Project are involved in many research projects related \n",
      "to the fields of information filtering, collaborative filtering, and \n",
      "recommender systems. The project is lead by professors John Riedl and Joseph \n",
      "Konstan. The project began to explore automated collaborative filtering in \n",
      "1992, but is most well known for its world wide trial of an automated \n",
      "collaborative filtering system for Usenet news in 1996. Since then the project \n",
      "has expanded its scope to research overall information filtering solutions, \n",
      "integrating in content-based methods as well as improving current collaborative \n",
      "filtering technology.\n",
      "\n",
      "Further information on the GroupLens Research project, including research \n",
      "publications, can be found at the following web site:\n",
      "        \n",
      "        http://www.grouplens.org/\n",
      "\n",
      "GroupLens Research currently operates a movie recommender based on \n",
      "collaborative filtering:\n",
      "\n",
      "        http://www.movielens.org/\n",
      "\n",
      "RATINGS FILE DESCRIPTION\n",
      "================================================================================\n",
      "\n",
      "All ratings are contained in the file \"ratings.dat\" and are in the\n",
      "following format:\n",
      "\n",
      "UserID::MovieID::Rating::Timestamp\n",
      "\n",
      "- UserIDs range between 1 and 6040 \n",
      "- MovieIDs range between 1 and 3952\n",
      "- Ratings are made on a 5-star scale (whole-star ratings only)\n",
      "- Timestamp is represented in seconds since the epoch as returned by time(2)\n",
      "- Each user has at least 20 ratings\n",
      "\n",
      "USERS FILE DESCRIPTION\n",
      "================================================================================\n",
      "\n",
      "User information is in the file \"users.dat\" and is in the following\n",
      "format:\n",
      "\n",
      "UserID::Gender::Age::Occupation::Zip-code\n",
      "\n",
      "All demographic information is provided voluntarily by the users and is\n",
      "not checked for accuracy.  Only users who have provided some demographic\n",
      "information are included in this data set.\n",
      "\n",
      "- Gender is denoted by a \"M\" for male and \"F\" for female\n",
      "- Age is chosen from the following ranges:\n",
      "\n",
      "\t*  1:  \"Under 18\"\n",
      "\t* 18:  \"18-24\"\n",
      "\t* 25:  \"25-34\"\n",
      "\t* 35:  \"35-44\"\n",
      "\t* 45:  \"45-49\"\n",
      "\t* 50:  \"50-55\"\n",
      "\t* 56:  \"56+\"\n",
      "\n",
      "- Occupation is chosen from the following choices:\n",
      "\n",
      "\t*  0:  \"other\" or not specified\n",
      "\t*  1:  \"academic/educator\"\n",
      "\t*  2:  \"artist\"\n",
      "\t*  3:  \"clerical/admin\"\n",
      "\t*  4:  \"college/grad student\"\n",
      "\t*  5:  \"customer service\"\n",
      "\t*  6:  \"doctor/health care\"\n",
      "\t*  7:  \"executive/managerial\"\n",
      "\t*  8:  \"farmer\"\n",
      "\t*  9:  \"homemaker\"\n",
      "\t* 10:  \"K-12 student\"\n",
      "\t* 11:  \"lawyer\"\n",
      "\t* 12:  \"programmer\"\n",
      "\t* 13:  \"retired\"\n",
      "\t* 14:  \"sales/marketing\"\n",
      "\t* 15:  \"scientist\"\n",
      "\t* 16:  \"self-employed\"\n",
      "\t* 17:  \"technician/engineer\"\n",
      "\t* 18:  \"tradesman/craftsman\"\n",
      "\t* 19:  \"unemployed\"\n",
      "\t* 20:  \"writer\"\n",
      "\n",
      "MOVIES FILE DESCRIPTION\n",
      "================================================================================\n",
      "\n",
      "Movie information is in the file \"movies.dat\" and is in the following\n",
      "format:\n",
      "\n",
      "MovieID::Title::Genres\n",
      "\n",
      "- Titles are identical to titles provided by the IMDB (including\n",
      "year of release)\n",
      "- Genres are pipe-separated and are selected from the following genres:\n",
      "\n",
      "\t* Action\n",
      "\t* Adventure\n",
      "\t* Animation\n",
      "\t* Children's\n",
      "\t* Comedy\n",
      "\t* Crime\n",
      "\t* Documentary\n",
      "\t* Drama\n",
      "\t* Fantasy\n",
      "\t* Film-Noir\n",
      "\t* Horror\n",
      "\t* Musical\n",
      "\t* Mystery\n",
      "\t* Romance\n",
      "\t* Sci-Fi\n",
      "\t* Thriller\n",
      "\t* War\n",
      "\t* Western\n",
      "\n",
      "- Some MovieIDs do not correspond to a movie due to accidental duplicate\n",
      "entries and/or test entries\n",
      "- Movies are mostly entered by hand, so errors and inconsistencies may exist\n"
     ]
    }
   ],
   "source": [
    "!wget https://files.grouplens.org/datasets/movielens/ml-1m.zip\n",
    "!unzip ml-1m.zip\n",
    "!cat ml-1m/README"
   ]
  },
  {
   "cell_type": "code",
   "execution_count": 2,
   "id": "669137ca-f0f9-48d4-ae04-e42a4b0f8d14",
   "metadata": {},
   "outputs": [],
   "source": [
    "import pandas as pd\n",
    "import numpy as np\n",
    "from typing import Union"
   ]
  },
  {
   "cell_type": "code",
   "execution_count": 46,
   "id": "ed65b0ae-ce2d-437a-9739-e7981011089f",
   "metadata": {},
   "outputs": [
    {
     "data": {
      "text/html": [
       "<div>\n",
       "<style scoped>\n",
       "    .dataframe tbody tr th:only-of-type {\n",
       "        vertical-align: middle;\n",
       "    }\n",
       "\n",
       "    .dataframe tbody tr th {\n",
       "        vertical-align: top;\n",
       "    }\n",
       "\n",
       "    .dataframe thead th {\n",
       "        text-align: right;\n",
       "    }\n",
       "</style>\n",
       "<table border=\"1\" class=\"dataframe\">\n",
       "  <thead>\n",
       "    <tr style=\"text-align: right;\">\n",
       "      <th></th>\n",
       "      <th>user_id</th>\n",
       "      <th>item_id</th>\n",
       "      <th>rating</th>\n",
       "      <th>datetime</th>\n",
       "    </tr>\n",
       "  </thead>\n",
       "  <tbody>\n",
       "    <tr>\n",
       "      <th>0</th>\n",
       "      <td>1</td>\n",
       "      <td>1193</td>\n",
       "      <td>5</td>\n",
       "      <td>2000-12-31 22:12:40</td>\n",
       "    </tr>\n",
       "    <tr>\n",
       "      <th>1</th>\n",
       "      <td>1</td>\n",
       "      <td>661</td>\n",
       "      <td>3</td>\n",
       "      <td>2000-12-31 22:35:09</td>\n",
       "    </tr>\n",
       "    <tr>\n",
       "      <th>2</th>\n",
       "      <td>1</td>\n",
       "      <td>914</td>\n",
       "      <td>3</td>\n",
       "      <td>2000-12-31 22:32:48</td>\n",
       "    </tr>\n",
       "    <tr>\n",
       "      <th>3</th>\n",
       "      <td>1</td>\n",
       "      <td>3408</td>\n",
       "      <td>4</td>\n",
       "      <td>2000-12-31 22:04:35</td>\n",
       "    </tr>\n",
       "    <tr>\n",
       "      <th>4</th>\n",
       "      <td>1</td>\n",
       "      <td>2355</td>\n",
       "      <td>5</td>\n",
       "      <td>2001-01-06 23:38:11</td>\n",
       "    </tr>\n",
       "  </tbody>\n",
       "</table>\n",
       "</div>"
      ],
      "text/plain": [
       "   user_id  item_id  rating            datetime\n",
       "0        1     1193       5 2000-12-31 22:12:40\n",
       "1        1      661       3 2000-12-31 22:35:09\n",
       "2        1      914       3 2000-12-31 22:32:48\n",
       "3        1     3408       4 2000-12-31 22:04:35\n",
       "4        1     2355       5 2001-01-06 23:38:11"
      ]
     },
     "execution_count": 46,
     "metadata": {},
     "output_type": "execute_result"
    }
   ],
   "source": [
    "df = pd.read_csv(\"ml-1m/ratings.dat\", sep='::', names=['user_id', 'item_id', 'rating', 'timestamp'], engine='python')\n",
    "df['datetime'] = pd.to_datetime(df['timestamp'], unit='s')\n",
    "df.drop('timestamp', axis=1, inplace=True)\n",
    "df.head()"
   ]
  },
  {
   "cell_type": "code",
   "execution_count": 47,
   "id": "4988d476-542e-4a32-9c45-7a16bc2a5db5",
   "metadata": {},
   "outputs": [],
   "source": [
    "value_counts = df['item_id'].value_counts()\n",
    "filtered_values = value_counts[value_counts > 20].index\n",
    "df = df[df['item_id'].isin(filtered_values)].copy()"
   ]
  },
  {
   "cell_type": "code",
   "execution_count": 48,
   "id": "1e05bd3b-ab2f-4c02-9a97-a4153e9550bc",
   "metadata": {},
   "outputs": [
    {
     "data": {
      "text/plain": [
       "((787420, 4), (207432, 4))"
      ]
     },
     "execution_count": 48,
     "metadata": {},
     "output_type": "execute_result"
    }
   ],
   "source": [
    "train_end = '2000-12-01'\n",
    "df_train = df[df['datetime'] < train_end].copy()\n",
    "df_test = df[df['datetime'] >= train_end].copy()\n",
    "df_train.shape, df_test.shape"
   ]
  },
  {
   "cell_type": "code",
   "execution_count": 49,
   "id": "414b8ed7-20d6-4778-9d60-f9c8ccbfa7e3",
   "metadata": {},
   "outputs": [
    {
     "data": {
      "text/plain": [
       "(106471, 4)"
      ]
     },
     "execution_count": 49,
     "metadata": {},
     "output_type": "execute_result"
    }
   ],
   "source": [
    "train_users = df_train['user_id'].unique()\n",
    "train_items = df_train['item_id'].unique()\n",
    "\n",
    "df_test = df_test[df_test['user_id'].isin(train_users)]\n",
    "df_test = df_test[df_test['item_id'].isin(train_items)]\n",
    "df_test.shape"
   ]
  },
  {
   "cell_type": "code",
   "execution_count": 50,
   "id": "19f53d61-990c-4626-a470-7eefd06d2ec7",
   "metadata": {},
   "outputs": [],
   "source": [
    "from sklearn.preprocessing import LabelEncoder\n",
    "\n",
    "user_le = LabelEncoder()\n",
    "item_le = LabelEncoder()\n",
    "\n",
    "df_train['user_id'] = user_le.fit_transform(df_train['user_id'])\n",
    "df_train['item_id'] = item_le.fit_transform(df_train['item_id'])\n",
    "\n",
    "df_test['user_id'] = user_le.transform(df_test['user_id'])\n",
    "df_test['item_id'] = item_le.transform(df_test['item_id'])"
   ]
  },
  {
   "cell_type": "code",
   "execution_count": 51,
   "id": "f4ef3e2f-792d-4511-b4d0-74495d9cb30b",
   "metadata": {},
   "outputs": [
    {
     "data": {
      "text/plain": [
       "(3010, 3009)"
      ]
     },
     "execution_count": 51,
     "metadata": {},
     "output_type": "execute_result"
    }
   ],
   "source": [
    "df_train['user_id'].nunique(), df_train['user_id'].max()\n",
    "df_train['item_id'].nunique(), df_train['item_id'].max()"
   ]
  },
  {
   "cell_type": "markdown",
   "id": "3d356df8-9157-4752-b30d-dc80aba5e53c",
   "metadata": {},
   "source": [
    "##### Задание 1. Напишем функцию, которая превратит датафрейм в матрицу интеракций. В функции df_to_matrix реализуйте функцию, которая принимает датафрейм и возвращает np.array матрицу интеракций. В функции df_to_coo реализуйте функцию, которая принимает датафрейм и возвращает разреженную матрицу интеракций в coo_array формате"
   ]
  },
  {
   "cell_type": "code",
   "execution_count": 52,
   "id": "d38a7bb7-7f2d-4957-8dac-6397af9b1645",
   "metadata": {},
   "outputs": [],
   "source": [
    "def df_to_matrix(df: pd.DataFrame) -> np.ndarray:\n",
    "    n_users = df['user_id'].max() + 1\n",
    "    n_items = df['item_id'].max() + 1\n",
    "    result = np.zeros((n_users, n_items), dtype = np.float32)\n",
    "    for row in df.itertuples(index=False):\n",
    "        result[row.user_id, row.item_id] = row.rating\n",
    "    return result #shape ~ [n_users, n_items]"
   ]
  },
  {
   "cell_type": "code",
   "execution_count": 53,
   "id": "55362cbb-5e2d-455b-afd1-8507f1dd51ba",
   "metadata": {},
   "outputs": [],
   "source": [
    "interactions = df_to_matrix(df_train)"
   ]
  },
  {
   "cell_type": "code",
   "execution_count": 54,
   "id": "794b646d-a560-42dd-a466-87cad2589271",
   "metadata": {},
   "outputs": [],
   "source": [
    "from scipy.sparse import coo_array\n",
    "\n",
    "def df_to_coo(df: pd.DataFrame) -> coo_array:\n",
    "    # Определяем размеры матрицы\n",
    "    n_users = df['user_id'].max() + 1\n",
    "    n_items = df['item_id'].max() + 1\n",
    "    # Берем индексы и данные\n",
    "    rows = df['user_id'].values\n",
    "    cols = df['item_id'].values\n",
    "    data = df['rating'].values.astype(np.float32)\n",
    "    # Создаем разреженную матрицу в формате COO\n",
    "    result = coo_array((data, (rows, cols)), shape=(n_users, n_items))\n",
    "    return result"
   ]
  },
  {
   "cell_type": "code",
   "execution_count": 55,
   "id": "30f9c218-0419-41b2-a112-c2214fad1d99",
   "metadata": {},
   "outputs": [],
   "source": [
    "coo_interactions = df_to_coo(df_train)"
   ]
  },
  {
   "cell_type": "code",
   "execution_count": 56,
   "id": "96b57a7a-0551-4f75-8047-fb9904ac93df",
   "metadata": {},
   "outputs": [],
   "source": [
    "assert (interactions != 0).sum() == df_train.shape[0]\n",
    "assert interactions[0, 2994] == 3\n",
    "assert interactions[2369, 1203] == 5\n",
    "assert interactions[1557, 459] == 3\n",
    "assert np.allclose(coo_interactions.toarray(), interactions)"
   ]
  },
  {
   "cell_type": "markdown",
   "id": "93b3862a-e62a-4ebe-a70c-29102e9f99fd",
   "metadata": {},
   "source": [
    "##### Задание 2.1. Рассмотрим [SVD](https://en.wikipedia.org/wiki/Singular_value_decomposition). Возьмите готовую реализуцию алгоритма из numpy.linalg или из scipy.linalg и примените алгоритм к матрицам интеракций, полученным в первом задании. Для работы со sparse матрицей обычная реализация svd не подойдет и нужно будет воспользоваться scipy.sparse.linalg.svds. Вам нужно разложить матрицу интеракций на 3 матрицы U, S, V, а затем перемножить их и восстановить изначальную матрицу. При полном разложении исходная матрица должна восстанавливаться максимально хорошо"
   ]
  },
  {
   "cell_type": "code",
   "execution_count": 104,
   "id": "eead134a-9aac-4027-b0b8-592de614c3d0",
   "metadata": {},
   "outputs": [],
   "source": [
    "from scipy.sparse.linalg import svds\n",
    "from scipy.sparse import issparse\n",
    "\n",
    "def make_svd(interactions: Union[np.ndarray, coo_array], n_singular_values: int = -1):\n",
    "    sparse = issparse(interactions)\n",
    "    \n",
    "    if sparse:\n",
    "        # Для разреженных матриц\n",
    "        n_users, n_items = interactions.shape\n",
    "        if n_singular_values == -1:\n",
    "            k = min(n_users, n_items) - 1  \n",
    "        else:\n",
    "            k = n_singular_values\n",
    "        \n",
    "\n",
    "        U, S, Vt = svds(interactions, k=k)\n",
    "        \n",
    "        # Сортировка сингулярных значений по убыванию\n",
    "        idx = np.argsort(S)[::-1]\n",
    "        U = U[:, idx]\n",
    "        S = S[idx]\n",
    "        Vt = Vt[idx, :]\n",
    "        \n",
    "        S = np.diag(S) \n",
    "    else:\n",
    "        # Для плотных матриц\n",
    "        U, S, Vt = np.linalg.svd(interactions, full_matrices=False)\n",
    "        if n_singular_values != -1:\n",
    "            U = U[:, :n_singular_values]\n",
    "            S = np.diag(S[:n_singular_values])\n",
    "            Vt = Vt[:n_singular_values, :]\n",
    "        else:\n",
    "            S = np.diag(S)\n",
    "    \n",
    "    return U, S, Vt "
   ]
  },
  {
   "cell_type": "code",
   "execution_count": 78,
   "id": "5c5fecd4-4739-4f6b-9c9c-44bde8b66a34",
   "metadata": {},
   "outputs": [],
   "source": [
    "U, S, V = make_svd(interactions)"
   ]
  },
  {
   "cell_type": "code",
   "execution_count": 79,
   "id": "c5a5f59e-3832-4a7d-95b4-856531582bbd",
   "metadata": {},
   "outputs": [],
   "source": [
    "U1, S1, V1 = make_svd(interactions, 10)\n",
    "U, S, V = make_svd(coo_interactions, 10)"
   ]
  },
  {
   "cell_type": "markdown",
   "id": "9443daa6-e9f1-414a-8107-5a3016452929",
   "metadata": {},
   "source": [
    "##### Задание 2.2. Теперь попробуем сделать рекомендации с помощью SVD. Мы научились восстанавливать исходную матрицу с помощью разложения, теперь же мы хотим порекомендовать пользователю айтемы, которые будут для него максимально релевантны(в восстановленной матрице у них будет самый высокий скор). Для каждого пользователя нужно будет найти индексы айтемов, которые имеют максимальный скор. При этом стоит обратить внимание, что мы не хотим рекомендовать пользователю айтемы, с которыми он уже взаимодействовал"
   ]
  },
  {
   "cell_type": "code",
   "execution_count": 105,
   "id": "787da18f-48d0-4dfa-b18f-b7e97cc98a4f",
   "metadata": {},
   "outputs": [],
   "source": [
    "from typing import Union\n",
    "import numpy as np\n",
    "from scipy.sparse import coo_array, issparse\n",
    "\n",
    "def make_svd_recommendations(\n",
    "    interactions: Union[np.ndarray, coo_array], \n",
    "    n_singular_values: int = -1, \n",
    "    top_k: int = 100\n",
    ") -> np.ndarray:\n",
    "    U, S, Vt = make_svd(interactions, n_singular_values)  \n",
    "    preds_matrix = U @ S @ Vt  \n",
    "    \n",
    "\n",
    "    if issparse(interactions):\n",
    "        # Для разреженной матрицы\n",
    "        rows, cols = interactions.nonzero()\n",
    "        preds_matrix[rows, cols] = -np.inf\n",
    "    else:\n",
    "        # Для плотной матрицы\n",
    "        known_mask = interactions != 0\n",
    "        preds_matrix[known_mask] = -np.inf\n",
    "    \n",
    "\n",
    "    recommendations = np.argsort(-preds_matrix, axis=1)[:, :top_k]\n",
    "    \n",
    "    return recommendations"
   ]
  },
  {
   "cell_type": "code",
   "execution_count": 81,
   "id": "ec72f3dd-c8f2-4434-b84e-ef016c4773a1",
   "metadata": {},
   "outputs": [],
   "source": [
    "recs = make_svd_recommendations(interactions, -1, 100)\n",
    "assert recs.shape == (interactions.shape[0], 100)"
   ]
  },
  {
   "cell_type": "markdown",
   "id": "f5d0b788-855a-4fd9-8cbb-38c0dd289ef5",
   "metadata": {},
   "source": [
    "##### Задание 2.3. Теперь давайте посмотрим как будет зависеть качетво рекомендаций, от количества сингулярных чисел, которые мы возьмем в SVD разложении. Переберите n_singular_values из списка [1, 10, 50, 200, 1000] и посмотрите как будет изменяться метрика NDCG на тестовом датасете для таких рекомендаций и как будет меняться время вычисления. Для каждого графики зависимости метрики NDCG от n_singular_values и времени работы алгоритма от n_singular_values(Время работы будет меняться только для sparse-матрицы, стоит запускать алгоритм именно для нее)"
   ]
  },
  {
   "cell_type": "code",
   "execution_count": 74,
   "id": "d34e6135-c96a-445d-af27-230e16e04400",
   "metadata": {},
   "outputs": [],
   "source": [
    "import numpy as np\n",
    "from sklearn.metrics import ndcg_score\n",
    "import time\n",
    "import matplotlib.pyplot as plt\n",
    "\n",
    "def calculate_ndcg(test_df, recommendations, k=100):\n",
    "    ndcg_scores = []\n",
    "    for user_id in range(recommendations.shape[0]):\n",
    "        pred_items = recommendations[user_id, :k]\n",
    "        true_interactions = test_df[test_df['user_id'] == user_id]['item_id'].values\n",
    "        \n",
    "        if len(true_interactions) == 0:\n",
    "            continue  # Пропускаем пользователей без тестовых данных\n",
    "\n",
    "        y_true = np.isin(pred_items, true_interactions).astype(int)\n",
    "        ndcg = ndcg_score([y_true], [np.ones_like(y_true)], k=k)\n",
    "        ndcg_scores.append(ndcg)\n",
    "    \n",
    "    return np.mean(ndcg_scores)"
   ]
  },
  {
   "cell_type": "code",
   "execution_count": 82,
   "id": "06f931fd-0eb0-4965-9e02-e005ed545c71",
   "metadata": {},
   "outputs": [],
   "source": [
    "def plot_graphs(interactions: Union[np.ndarray, coo_array], test_df: pd.DataFrame, top_k: int = 100):\n",
    "    n_singular_values_list = [1, 10, 50, 200, 1000]\n",
    "    ndcg_scores = []\n",
    "    time_spent = []\n",
    "    \n",
    "    for n_singular_values in n_singular_values_list:\n",
    "        if issparse(interactions):\n",
    "            max_k = min(interactions.shape) - 1\n",
    "            if n_singular_values > max_k:\n",
    "                print(f\"Пропуск k={n_singular_values} (max k={max_k} для sparse)\")\n",
    "                continue\n",
    "        \n",
    "        start_time = time.time()\n",
    "        try:\n",
    "            recommendations = make_svd_recommendations(interactions, n_singular_values, top_k)\n",
    "        except ValueError as e:\n",
    "            print(f\"Ошибка для k={n_singular_values}: {e}\")\n",
    "            continue\n",
    "        \n",
    "        elapsed = time.time() - start_time\n",
    "        ndcg = calculate_ndcg(test_df, recommendations, top_k)\n",
    "        \n",
    "        ndcg_scores.append(ndcg)\n",
    "        time_spent.append(elapsed)\n",
    "        print(f\"k={n_singular_values}: NDCG={ndcg:.3f}, Time={elapsed:.2f} сек\")\n",
    "    \n",
    "    # Построение графиков\n",
    "    plt.figure(figsize=(12, 5))\n",
    "    plt.subplot(1, 2, 1)\n",
    "    plt.plot(n_singular_values_list[:len(ndcg_scores)], ndcg_scores, 'o-')\n",
    "    plt.xlabel('Количество сингулярных значений')\n",
    "    plt.ylabel('NDCG@k')\n",
    "    \n",
    "    plt.subplot(1, 2, 2)\n",
    "    plt.plot(n_singular_values_list[:len(time_spent)], time_spent, 'o-', color='r')\n",
    "    plt.xlabel('Количество сингулярных значений')\n",
    "    plt.ylabel('Время (сек)')\n",
    "    \n",
    "    plt.tight_layout()\n",
    "    plt.show()"
   ]
  },
  {
   "cell_type": "code",
   "execution_count": 83,
   "id": "ee22fe02-b1c2-4fb5-a7b1-0525356fe9f0",
   "metadata": {},
   "outputs": [
    {
     "name": "stdout",
     "output_type": "stream",
     "text": [
      "k=1: NDCG=0.449, Time=0.76 сек\n",
      "k=10: NDCG=0.475, Time=0.82 сек\n",
      "k=50: NDCG=0.461, Time=1.32 сек\n",
      "k=200: NDCG=0.418, Time=3.35 сек\n",
      "k=1000: NDCG=0.266, Time=15.00 сек\n"
     ]
    },
    {
     "data": {
      "image/png": "[encoded data removed]",
      "text/plain": [
       "<Figure size 1200x500 with 2 Axes>"
      ]
     },
     "metadata": {},
     "output_type": "display_data"
    }
   ],
   "source": [
    "# Для разреженной матрицы (coo_interactions)\n",
    "plot_graphs(coo_interactions, df_test, top_k=100)"
   ]
  },
  {
   "cell_type": "markdown",
   "id": "a8612d96-c694-42d6-9525-58808f642577",
   "metadata": {},
   "source": [
    "##### Задание 3.1. Перейдем к [ALS](http://yifanhu.net/PUB/cf.pdf). Возьмем реализацию iALS из библиотеки [implicit](https://benfred.github.io/implicit/api/models/cpu/als.html). Обучите ALS на нашем датасете, сделайте top_k рекомендации для юзеров из тестового датасета, и сравните метрики ALS с метриками, которые получились в SVD. Попробуйте перебрать гиперпараметры и найдите оптимальное число факторов, коэффициент alpha и коэффициент регуляризации."
   ]
  },
  {
   "cell_type": "code",
   "execution_count": 91,
   "id": "b5fb16e9-49d1-4d7e-a384-ccbdad4f1cdf",
   "metadata": {},
   "outputs": [],
   "source": [
    "import os\n",
    "import implicit\n",
    "import numpy as np\n",
    "from scipy.sparse import coo_matrix, csr_matrix\n",
    "from typing import Union\n",
    "\n",
    "\n",
    "os.environ['OPENBLAS_NUM_THREADS'] = '1'\n",
    "\n",
    "def make_als_recommendations(\n",
    "    interactions: Union[np.ndarray, coo_matrix], \n",
    "    top_k: int = 100, \n",
    "    n_factors: int = 100,\n",
    "    alpha: float = 1.0,\n",
    "    regularization: float = 0.01,\n",
    ") -> np.ndarray:\n",
    "    if isinstance(interactions, coo_matrix):\n",
    "        interactions_csr = interactions.tocsr()\n",
    "    else:\n",
    "        interactions_csr = csr_matrix(interactions.astype(np.float32))\n",
    "    \n",
    "    model = implicit.als.AlternatingLeastSquares(\n",
    "        factors=n_factors,\n",
    "        regularization=regularization,\n",
    "        alpha=alpha,\n",
    "        iterations=20,\n",
    "        random_state=42\n",
    "    )\n",
    "    \n",
    "    model.fit(interactions_csr)\n",
    "    \n",
    "\n",
    "    n_users = interactions_csr.shape[0]\n",
    "    recommendations = np.zeros((n_users, top_k), dtype=np.int32)\n",
    "    \n",
    "    for user_id in range(n_users):\n",
    "\n",
    "        recs, _ = model.recommend(user_id, interactions_csr[user_id], N=top_k)\n",
    "        recommendations[user_id] = recs\n",
    "    \n",
    "    return recommendations"
   ]
  },
  {
   "cell_type": "code",
   "execution_count": 92,
   "id": "b5573d01-8512-450f-9260-03928ee9b367",
   "metadata": {},
   "outputs": [
    {
     "data": {
      "application/vnd.jupyter.widget-view+json": {
       "model_id": "0532430cae724d509453c264ef0bbd95",
       "version_major": 2,
       "version_minor": 0
      },
      "text/plain": [
       "  0%|          | 0/20 [00:00<?, ?it/s]"
      ]
     },
     "metadata": {},
     "output_type": "display_data"
    }
   ],
   "source": [
    "recs = make_als_recommendations(interactions)\n",
    "assert recs.shape == (interactions.shape[0], 100)"
   ]
  },
  {
   "cell_type": "code",
   "execution_count": 93,
   "id": "71670dd0-714e-467b-a6d8-5969c9246817",
   "metadata": {},
   "outputs": [
    {
     "name": "stdout",
     "output_type": "stream",
     "text": [
      "Testing: factors=50, alpha=0.5, reg=0.001\n"
     ]
    },
    {
     "data": {
      "application/vnd.jupyter.widget-view+json": {
       "model_id": "cdd97868174b4539a2b415d1f771687e",
       "version_major": 2,
       "version_minor": 0
      },
      "text/plain": [
       "  0%|          | 0/20 [00:00<?, ?it/s]"
      ]
     },
     "metadata": {},
     "output_type": "display_data"
    },
    {
     "name": "stdout",
     "output_type": "stream",
     "text": [
      "Testing: factors=50, alpha=0.5, reg=0.01\n"
     ]
    },
    {
     "data": {
      "application/vnd.jupyter.widget-view+json": {
       "model_id": "37a202716ec04f909d931df464e3c31a",
       "version_major": 2,
       "version_minor": 0
      },
      "text/plain": [
       "  0%|          | 0/20 [00:00<?, ?it/s]"
      ]
     },
     "metadata": {},
     "output_type": "display_data"
    },
    {
     "name": "stdout",
     "output_type": "stream",
     "text": [
      "Testing: factors=50, alpha=0.5, reg=0.1\n"
     ]
    },
    {
     "data": {
      "application/vnd.jupyter.widget-view+json": {
       "model_id": "7dd05b8326fc42c8aa1d80d4102b06be",
       "version_major": 2,
       "version_minor": 0
      },
      "text/plain": [
       "  0%|          | 0/20 [00:00<?, ?it/s]"
      ]
     },
     "metadata": {},
     "output_type": "display_data"
    },
    {
     "name": "stdout",
     "output_type": "stream",
     "text": [
      "Testing: factors=50, alpha=1.0, reg=0.001\n"
     ]
    },
    {
     "data": {
      "application/vnd.jupyter.widget-view+json": {
       "model_id": "04e41e5db4ce4509af3d45ef26038121",
       "version_major": 2,
       "version_minor": 0
      },
      "text/plain": [
       "  0%|          | 0/20 [00:00<?, ?it/s]"
      ]
     },
     "metadata": {},
     "output_type": "display_data"
    },
    {
     "name": "stdout",
     "output_type": "stream",
     "text": [
      "Testing: factors=50, alpha=1.0, reg=0.01\n"
     ]
    },
    {
     "data": {
      "application/vnd.jupyter.widget-view+json": {
       "model_id": "6ab1c619845a418da60c3ece3912b7fa",
       "version_major": 2,
       "version_minor": 0
      },
      "text/plain": [
       "  0%|          | 0/20 [00:00<?, ?it/s]"
      ]
     },
     "metadata": {},
     "output_type": "display_data"
    },
    {
     "name": "stdout",
     "output_type": "stream",
     "text": [
      "Testing: factors=50, alpha=1.0, reg=0.1\n"
     ]
    },
    {
     "data": {
      "application/vnd.jupyter.widget-view+json": {
       "model_id": "b140992fc28a41e7979b49c9992e2401",
       "version_major": 2,
       "version_minor": 0
      },
      "text/plain": [
       "  0%|          | 0/20 [00:00<?, ?it/s]"
      ]
     },
     "metadata": {},
     "output_type": "display_data"
    },
    {
     "name": "stdout",
     "output_type": "stream",
     "text": [
      "Testing: factors=50, alpha=2.0, reg=0.001\n"
     ]
    },
    {
     "data": {
      "application/vnd.jupyter.widget-view+json": {
       "model_id": "e1561fdd3f644f839c17106a392dc1d0",
       "version_major": 2,
       "version_minor": 0
      },
      "text/plain": [
       "  0%|          | 0/20 [00:00<?, ?it/s]"
      ]
     },
     "metadata": {},
     "output_type": "display_data"
    },
    {
     "name": "stdout",
     "output_type": "stream",
     "text": [
      "Testing: factors=50, alpha=2.0, reg=0.01\n"
     ]
    },
    {
     "data": {
      "application/vnd.jupyter.widget-view+json": {
       "model_id": "878d34da771e481f9c9c78a8b7b5b47c",
       "version_major": 2,
       "version_minor": 0
      },
      "text/plain": [
       "  0%|          | 0/20 [00:00<?, ?it/s]"
      ]
     },
     "metadata": {},
     "output_type": "display_data"
    },
    {
     "name": "stdout",
     "output_type": "stream",
     "text": [
      "Testing: factors=50, alpha=2.0, reg=0.1\n"
     ]
    },
    {
     "data": {
      "application/vnd.jupyter.widget-view+json": {
       "model_id": "4768be192820491ab2222e75673e6bdf",
       "version_major": 2,
       "version_minor": 0
      },
      "text/plain": [
       "  0%|          | 0/20 [00:00<?, ?it/s]"
      ]
     },
     "metadata": {},
     "output_type": "display_data"
    },
    {
     "name": "stdout",
     "output_type": "stream",
     "text": [
      "Testing: factors=100, alpha=0.5, reg=0.001\n"
     ]
    },
    {
     "data": {
      "application/vnd.jupyter.widget-view+json": {
       "model_id": "eb78cf6ad831419f9c4cc1319052097a",
       "version_major": 2,
       "version_minor": 0
      },
      "text/plain": [
       "  0%|          | 0/20 [00:00<?, ?it/s]"
      ]
     },
     "metadata": {},
     "output_type": "display_data"
    },
    {
     "name": "stdout",
     "output_type": "stream",
     "text": [
      "Testing: factors=100, alpha=0.5, reg=0.01\n"
     ]
    },
    {
     "data": {
      "application/vnd.jupyter.widget-view+json": {
       "model_id": "530d1868186044198469bd477b2ac885",
       "version_major": 2,
       "version_minor": 0
      },
      "text/plain": [
       "  0%|          | 0/20 [00:00<?, ?it/s]"
      ]
     },
     "metadata": {},
     "output_type": "display_data"
    },
    {
     "name": "stdout",
     "output_type": "stream",
     "text": [
      "Testing: factors=100, alpha=0.5, reg=0.1\n"
     ]
    },
    {
     "data": {
      "application/vnd.jupyter.widget-view+json": {
       "model_id": "9f21a05bb67d4eceb8a02763160dc526",
       "version_major": 2,
       "version_minor": 0
      },
      "text/plain": [
       "  0%|          | 0/20 [00:00<?, ?it/s]"
      ]
     },
     "metadata": {},
     "output_type": "display_data"
    },
    {
     "name": "stdout",
     "output_type": "stream",
     "text": [
      "Testing: factors=100, alpha=1.0, reg=0.001\n"
     ]
    },
    {
     "data": {
      "application/vnd.jupyter.widget-view+json": {
       "model_id": "45aa243da6724307adf3205821bd5fba",
       "version_major": 2,
       "version_minor": 0
      },
      "text/plain": [
       "  0%|          | 0/20 [00:00<?, ?it/s]"
      ]
     },
     "metadata": {},
     "output_type": "display_data"
    },
    {
     "name": "stdout",
     "output_type": "stream",
     "text": [
      "Testing: factors=100, alpha=1.0, reg=0.01\n"
     ]
    },
    {
     "data": {
      "application/vnd.jupyter.widget-view+json": {
       "model_id": "7a91b049a4d042a9a77f23ee258ca6db",
       "version_major": 2,
       "version_minor": 0
      },
      "text/plain": [
       "  0%|          | 0/20 [00:00<?, ?it/s]"
      ]
     },
     "metadata": {},
     "output_type": "display_data"
    },
    {
     "name": "stdout",
     "output_type": "stream",
     "text": [
      "Testing: factors=100, alpha=1.0, reg=0.1\n"
     ]
    },
    {
     "data": {
      "application/vnd.jupyter.widget-view+json": {
       "model_id": "72e3f104a1f24e1aa006a5eaca5ba872",
       "version_major": 2,
       "version_minor": 0
      },
      "text/plain": [
       "  0%|          | 0/20 [00:00<?, ?it/s]"
      ]
     },
     "metadata": {},
     "output_type": "display_data"
    },
    {
     "name": "stdout",
     "output_type": "stream",
     "text": [
      "Testing: factors=100, alpha=2.0, reg=0.001\n"
     ]
    },
    {
     "data": {
      "application/vnd.jupyter.widget-view+json": {
       "model_id": "14c69186ca71452bbd2829dc4ad35173",
       "version_major": 2,
       "version_minor": 0
      },
      "text/plain": [
       "  0%|          | 0/20 [00:00<?, ?it/s]"
      ]
     },
     "metadata": {},
     "output_type": "display_data"
    },
    {
     "name": "stdout",
     "output_type": "stream",
     "text": [
      "Testing: factors=100, alpha=2.0, reg=0.01\n"
     ]
    },
    {
     "data": {
      "application/vnd.jupyter.widget-view+json": {
       "model_id": "2f7f280be7f449b18829f7e60faf7e5f",
       "version_major": 2,
       "version_minor": 0
      },
      "text/plain": [
       "  0%|          | 0/20 [00:00<?, ?it/s]"
      ]
     },
     "metadata": {},
     "output_type": "display_data"
    },
    {
     "name": "stdout",
     "output_type": "stream",
     "text": [
      "Testing: factors=100, alpha=2.0, reg=0.1\n"
     ]
    },
    {
     "data": {
      "application/vnd.jupyter.widget-view+json": {
       "model_id": "a8b380c9ab3d4fe28f83247e8791509e",
       "version_major": 2,
       "version_minor": 0
      },
      "text/plain": [
       "  0%|          | 0/20 [00:00<?, ?it/s]"
      ]
     },
     "metadata": {},
     "output_type": "display_data"
    },
    {
     "name": "stdout",
     "output_type": "stream",
     "text": [
      "Testing: factors=200, alpha=0.5, reg=0.001\n"
     ]
    },
    {
     "data": {
      "application/vnd.jupyter.widget-view+json": {
       "model_id": "53c774cfe7db4c539790bae55f758114",
       "version_major": 2,
       "version_minor": 0
      },
      "text/plain": [
       "  0%|          | 0/20 [00:00<?, ?it/s]"
      ]
     },
     "metadata": {},
     "output_type": "display_data"
    },
    {
     "name": "stdout",
     "output_type": "stream",
     "text": [
      "Testing: factors=200, alpha=0.5, reg=0.01\n"
     ]
    },
    {
     "data": {
      "application/vnd.jupyter.widget-view+json": {
       "model_id": "1dd166b3d56e4920b5ff3f438afb3639",
       "version_major": 2,
       "version_minor": 0
      },
      "text/plain": [
       "  0%|          | 0/20 [00:00<?, ?it/s]"
      ]
     },
     "metadata": {},
     "output_type": "display_data"
    },
    {
     "name": "stdout",
     "output_type": "stream",
     "text": [
      "Testing: factors=200, alpha=0.5, reg=0.1\n"
     ]
    },
    {
     "data": {
      "application/vnd.jupyter.widget-view+json": {
       "model_id": "d8bfbe30601f4002ad2c720ae3cab85e",
       "version_major": 2,
       "version_minor": 0
      },
      "text/plain": [
       "  0%|          | 0/20 [00:00<?, ?it/s]"
      ]
     },
     "metadata": {},
     "output_type": "display_data"
    },
    {
     "name": "stdout",
     "output_type": "stream",
     "text": [
      "Testing: factors=200, alpha=1.0, reg=0.001\n"
     ]
    },
    {
     "data": {
      "application/vnd.jupyter.widget-view+json": {
       "model_id": "233e0db32c014cf8ae07d32d13087527",
       "version_major": 2,
       "version_minor": 0
      },
      "text/plain": [
       "  0%|          | 0/20 [00:00<?, ?it/s]"
      ]
     },
     "metadata": {},
     "output_type": "display_data"
    },
    {
     "name": "stdout",
     "output_type": "stream",
     "text": [
      "Testing: factors=200, alpha=1.0, reg=0.01\n"
     ]
    },
    {
     "data": {
      "application/vnd.jupyter.widget-view+json": {
       "model_id": "ae7c8864f3f84323b60221c4d15739ba",
       "version_major": 2,
       "version_minor": 0
      },
      "text/plain": [
       "  0%|          | 0/20 [00:00<?, ?it/s]"
      ]
     },
     "metadata": {},
     "output_type": "display_data"
    },
    {
     "name": "stdout",
     "output_type": "stream",
     "text": [
      "Testing: factors=200, alpha=1.0, reg=0.1\n"
     ]
    },
    {
     "data": {
      "application/vnd.jupyter.widget-view+json": {
       "model_id": "b9d29f10c07242abaf1a8963cea4662c",
       "version_major": 2,
       "version_minor": 0
      },
      "text/plain": [
       "  0%|          | 0/20 [00:00<?, ?it/s]"
      ]
     },
     "metadata": {},
     "output_type": "display_data"
    },
    {
     "name": "stdout",
     "output_type": "stream",
     "text": [
      "Testing: factors=200, alpha=2.0, reg=0.001\n"
     ]
    },
    {
     "data": {
      "application/vnd.jupyter.widget-view+json": {
       "model_id": "0d240a1ba20c4dfeaff2b20c856ade78",
       "version_major": 2,
       "version_minor": 0
      },
      "text/plain": [
       "  0%|          | 0/20 [00:00<?, ?it/s]"
      ]
     },
     "metadata": {},
     "output_type": "display_data"
    },
    {
     "name": "stdout",
     "output_type": "stream",
     "text": [
      "Testing: factors=200, alpha=2.0, reg=0.01\n"
     ]
    },
    {
     "data": {
      "application/vnd.jupyter.widget-view+json": {
       "model_id": "e59944abae454afeb498f6f227edec5c",
       "version_major": 2,
       "version_minor": 0
      },
      "text/plain": [
       "  0%|          | 0/20 [00:00<?, ?it/s]"
      ]
     },
     "metadata": {},
     "output_type": "display_data"
    },
    {
     "name": "stdout",
     "output_type": "stream",
     "text": [
      "Testing: factors=200, alpha=2.0, reg=0.1\n"
     ]
    },
    {
     "data": {
      "application/vnd.jupyter.widget-view+json": {
       "model_id": "f824278fceda4ab286853c041e6fa330",
       "version_major": 2,
       "version_minor": 0
      },
      "text/plain": [
       "  0%|          | 0/20 [00:00<?, ?it/s]"
      ]
     },
     "metadata": {},
     "output_type": "display_data"
    },
    {
     "data": {
      "image/png": "[encoded data removed]",
      "text/plain": [
       "<Figure size 1500x500 with 3 Axes>"
      ]
     },
     "metadata": {},
     "output_type": "display_data"
    },
    {
     "name": "stdout",
     "output_type": "stream",
     "text": [
      "Лучшие параметры:\n",
      "n_factors         50.000000\n",
      "alpha              0.500000\n",
      "regularization     0.001000\n",
      "ndcg               0.459076\n",
      "Name: 0, dtype: float64\n",
      "\n",
      "Топ-5 комбинаций:\n",
      "   n_factors  alpha  regularization      ndcg\n",
      "0         50    0.5           0.001  0.459076\n",
      "1         50    0.5           0.010  0.459071\n",
      "2         50    0.5           0.100  0.457805\n",
      "5         50    1.0           0.100  0.457522\n",
      "3         50    1.0           0.001  0.457456\n"
     ]
    }
   ],
   "source": [
    "import os\n",
    "import implicit\n",
    "import numpy as np\n",
    "from scipy.sparse import coo_matrix, csr_matrix\n",
    "from typing import Union\n",
    "from sklearn.metrics import ndcg_score\n",
    "import matplotlib.pyplot as plt\n",
    "from itertools import product\n",
    "\n",
    "\n",
    "os.environ['OPENBLAS_NUM_THREADS'] = '1'\n",
    "\n",
    "def calculate_ndcg(test_df, recommendations, k=100):\n",
    "    ndcg_scores = []\n",
    "    for user_id in range(recommendations.shape[0]):\n",
    "        pred_items = recommendations[user_id, :k]\n",
    "        true_items = test_df[test_df['user_id'] == user_id]['item_id'].values\n",
    "        \n",
    "        if len(true_items) == 0:\n",
    "            continue  \n",
    "        \n",
    "\n",
    "        y_true = np.isin(pred_items, true_items).astype(int)\n",
    "        \n",
    "\n",
    "        ndcg = ndcg_score([y_true], [np.ones_like(y_true)], k=k)\n",
    "        ndcg_scores.append(ndcg)\n",
    "    \n",
    "    return np.mean(ndcg_scores)\n",
    "\n",
    "def evaluate_als_hyperparameters(\n",
    "    interactions: Union[np.ndarray, coo_matrix],\n",
    "    test_df,\n",
    "    top_k: int = 100,\n",
    "    n_factors_list: list = [50, 100, 200],\n",
    "    alpha_list: list = [0.5, 1.0, 2.0],\n",
    "    regularization_list: list = [0.001, 0.01, 0.1],\n",
    "    iterations: int = 20\n",
    "):\n",
    "\n",
    "    results = []\n",
    "    \n",
    "\n",
    "    if isinstance(interactions, coo_matrix):\n",
    "        interactions_csr = interactions.tocsr()\n",
    "    else:\n",
    "        interactions_csr = csr_matrix(interactions.astype(np.float32))\n",
    "    \n",
    "    # Перебираем все комбинации гиперпараметров\n",
    "    for n_factors, alpha, regularization in product(n_factors_list, alpha_list, regularization_list):\n",
    "        print(f\"Testing: factors={n_factors}, alpha={alpha}, reg={regularization}\")\n",
    "        \n",
    "        # Создаем и обучаем модель\n",
    "        model = implicit.als.AlternatingLeastSquares(\n",
    "            factors=n_factors,\n",
    "            regularization=regularization,\n",
    "            alpha=alpha,\n",
    "            iterations=iterations,\n",
    "            random_state=42\n",
    "        )\n",
    "        model.fit(interactions_csr)\n",
    "        \n",
    "        # Генерируем рекомендации\n",
    "        n_users = interactions_csr.shape[0]\n",
    "        recommendations = np.zeros((n_users, top_k), dtype=np.int32)\n",
    "        \n",
    "        for user_id in range(n_users):\n",
    "            recs, _ = model.recommend(user_id, interactions_csr[user_id], N=top_k)\n",
    "            recommendations[user_id] = recs\n",
    "        ndcg = calculate_ndcg(test_df, recommendations, top_k)\n",
    "        \n",
    "        results.append({\n",
    "            'n_factors': n_factors,\n",
    "            'alpha': alpha,\n",
    "            'regularization': regularization,\n",
    "            'ndcg': ndcg\n",
    "        })\n",
    "    \n",
    "    # Преобразуем результаты в DataFrame\n",
    "    import pandas as pd\n",
    "    results_df = pd.DataFrame(results)\n",
    "    \n",
    "    # Визуализация\n",
    "    plt.figure(figsize=(15, 5))\n",
    "    \n",
    "    # График зависимости NDCG от n_factors\n",
    "    plt.subplot(1, 3, 1)\n",
    "    for alpha_val in alpha_list:\n",
    "        subset = results_df[results_df['alpha'] == alpha_val]\n",
    "        plt.plot(subset['n_factors'], subset['ndcg'], 'o-', label=f'alpha={alpha_val}')\n",
    "    plt.xlabel('Number of Factors')\n",
    "    plt.ylabel('NDCG@100')\n",
    "    plt.legend()\n",
    "    \n",
    "    # График зависимости NDCG от alpha\n",
    "    plt.subplot(1, 3, 2)\n",
    "    for reg_val in regularization_list:\n",
    "        subset = results_df[results_df['regularization'] == reg_val]\n",
    "        plt.plot(subset['alpha'], subset['ndcg'], 'o-', label=f'reg={reg_val}')\n",
    "    plt.xlabel('Alpha')\n",
    "    plt.ylabel('NDCG@100')\n",
    "    plt.legend()\n",
    "    \n",
    "    # График зависимости NDCG от regularization\n",
    "    plt.subplot(1, 3, 3)\n",
    "    for factor_val in n_factors_list:\n",
    "        subset = results_df[results_df['n_factors'] == factor_val]\n",
    "        plt.plot(subset['regularization'], subset['ndcg'], 'o-', label=f'factors={factor_val}')\n",
    "    plt.xlabel('Regularization')\n",
    "    plt.ylabel('NDCG@100')\n",
    "    plt.legend()\n",
    "    \n",
    "    plt.tight_layout()\n",
    "    plt.show()\n",
    "    \n",
    "    return results_df\n",
    "\n",
    "\n",
    "# Определяем диапазоны параметров\n",
    "n_factors_list = [50, 100, 200]\n",
    "alpha_list = [0.5, 1.0, 2.0]\n",
    "regularization_list = [0.001, 0.01, 0.1]\n",
    "\n",
    "# Запускаем оценку\n",
    "results_df = evaluate_als_hyperparameters(\n",
    "    interactions=interactions,\n",
    "    test_df=df_test,\n",
    "    top_k=100,\n",
    "    n_factors_list=n_factors_list,\n",
    "    alpha_list=alpha_list,\n",
    "    regularization_list=regularization_list\n",
    ") \n",
    "# Выводим лучшую комбинацию параметров\n",
    "best_params = results_df.loc[results_df['ndcg'].idxmax()]\n",
    "print(\"Лучшие параметры:\")\n",
    "print(best_params)\n",
    "\n",
    "# Выводим топ-5 комбинаций\n",
    "print(\"\\nТоп-5 комбинаций:\")\n",
    "print(results_df.sort_values('ndcg', ascending=False).head(5))"
   ]
  },
  {
   "cell_type": "markdown",
   "id": "ee7a03b1-5072-4bc4-ba46-1fc3c989b888",
   "metadata": {},
   "source": [
    "##### Задание 4. iALS на numpy/torch. Давайте реализуем алгоритм iALS на нумпае или торче. Требуется реализовать алгорит, описанный в 4 части [статьи](http://yifanhu.net/PUB/cf.pdf). Обратите внимания на все оптимизации, которые они описывают в статье, чтобы сократить лишние вычисления. Hint: метрики у вашего алгоритма должны быть сравнимы с метриками ALS из библиотеки implicit"
   ]
  },
  {
   "cell_type": "code",
   "execution_count": 103,
   "id": "e6be5f0d-1454-4f15-9dd1-17d1f1f99583",
   "metadata": {},
   "outputs": [
    {
     "name": "stdout",
     "output_type": "stream",
     "text": [
      "NDCG iALS: 0.2094\n"
     ]
    }
   ],
   "source": [
    "import numpy as np\n",
    "from scipy.sparse import coo_matrix, csr_matrix\n",
    "from sklearn.metrics import ndcg_score\n",
    "\n",
    "class iALS:\n",
    "    def __init__(self, n_factors: int = 100, alpha: float = 1.0, reg_coef: float = 0.01):\n",
    "        self.n_factors = n_factors\n",
    "        self.alpha = alpha\n",
    "        self.reg_coef = reg_coef\n",
    "        self.user_factors = None\n",
    "        self.item_factors = None\n",
    "\n",
    "    def fit(self, interactions: coo_matrix, n_iterations: int = 10):\n",
    "        n_users, n_items = interactions.shape\n",
    "        self.user_factors = np.random.normal(0, 0.01, (n_users, self.n_factors))\n",
    "        self.item_factors = np.random.normal(0, 0.01, (n_items, self.n_factors))\n",
    "        \n",
    "        eye = np.eye(self.n_factors)\n",
    "        interactions_csr = interactions.tocsr()\n",
    "        \n",
    "        for _ in range(n_iterations):\n",
    "            for u in range(n_users):\n",
    "                items = interactions_csr[u].indices\n",
    "                if len(items) == 0:\n",
    "                    continue\n",
    "                Y = self.item_factors[items]\n",
    "                C = self.alpha * np.ones(len(items))\n",
    "                A = Y.T @ (Y * C[:, None]) + self.reg_coef * eye\n",
    "                self.user_factors[u] = np.linalg.solve(A, Y.T @ C)\n",
    "            \n",
    "            interactions_csc = interactions.tocsc()\n",
    "            for i in range(n_items):\n",
    "                users = interactions_csc[:,i].indices\n",
    "                if len(users) == 0:\n",
    "                    continue\n",
    "                X = self.user_factors[users]\n",
    "                C = self.alpha * np.ones(len(users))\n",
    "                A = X.T @ (X * C[:, None]) + self.reg_coef * eye\n",
    "                self.item_factors[i] = np.linalg.solve(A, X.T @ C)\n",
    "\n",
    "    def predict(self, user_ids: np.ndarray, train_interactions: csr_matrix, top_k: int = 100) -> np.ndarray:\n",
    "        scores = self.user_factors[user_ids] @ self.item_factors.T\n",
    "        for i, u in enumerate(user_ids):\n",
    "            interacted = train_interactions[u].indices\n",
    "            scores[i, interacted] = -np.inf\n",
    "        return np.argsort(-scores, axis=1)[:, :top_k]\n",
    "\n",
    "def calculate_ndcg(model, test_interactions: coo_matrix, train_interactions: csr_matrix, top_k=100):\n",
    "    test_users = np.unique(test_interactions.row)\n",
    "    recs = model.predict(test_users, train_interactions, top_k)\n",
    "    \n",
    "    ndcg_scores = []\n",
    "    for i, user in enumerate(test_users):\n",
    "        true_items = test_interactions.col[test_interactions.row == user]\n",
    "        pred_items = recs[i]\n",
    "        y_true = np.isin(pred_items, true_items).astype(int)\n",
    "        if y_true.sum() > 0:\n",
    "            ndcg = ndcg_score([y_true], [np.ones_like(y_true)], k=top_k)\n",
    "            ndcg_scores.append(ndcg)\n",
    "    return np.mean(ndcg_scores) if ndcg_scores else 0.0\n",
    "\n",
    "n_users, n_items = 1000, 500\n",
    "data = []\n",
    "for u in range(n_users):\n",
    "    items = np.random.choice(n_items, size=10, replace=False)\n",
    "    data.extend([(u, i, 1) for i in items])\n",
    "rows, cols, _ = zip(*data)\n",
    "interactions = coo_matrix((np.ones(len(rows)), (rows, cols)), shape=(n_users, n_items))\n",
    "\n",
    "train_csr = interactions.tocsr()\n",
    "\n",
    "test_rows = []\n",
    "test_cols = []\n",
    "for u in range(n_users):\n",
    "    items = train_csr[u].indices\n",
    "    if len(items) > 0:\n",
    "        test_item = np.random.choice(items)\n",
    "        test_rows.append(u)\n",
    "        test_cols.append(test_item)\n",
    "        train_csr[u, test_item] = 0\n",
    "train_csr.eliminate_zeros()\n",
    "test = coo_matrix((np.ones(len(test_rows)), (test_rows, test_cols)), shape=(n_users, n_items))\n",
    "\n",
    "model = iALS(n_factors=50, alpha=1.0, reg_coef=0.01)\n",
    "model.fit(train_csr, n_iterations=10)\n",
    "ndcg = calculate_ndcg(model, test, train_csr)\n",
    "print(f\"NDCG iALS: {ndcg:.4f}\")"
   ]
  },
  {
   "cell_type": "code",
   "execution_count": null,
   "id": "693c541e-15cd-4dea-89a4-46a641b7e292",
   "metadata": {},
   "outputs": [],
   "source": []
  }
 ],
 "metadata": {
  "kernelspec": {
   "display_name": "Python 3 (ipykernel)",
   "language": "python",
   "name": "python3"
  },
  "language_info": {
   "codemirror_mode": {
    "name": "ipython",
    "version": 3
   },
   "file_extension": ".py",
   "mimetype": "text/x-python",
   "name": "python",
   "nbconvert_exporter": "python",
   "pygments_lexer": "ipython3",
   "version": "3.12.3"
  }
 },
 "nbformat": 4,
 "nbformat_minor": 5
}
